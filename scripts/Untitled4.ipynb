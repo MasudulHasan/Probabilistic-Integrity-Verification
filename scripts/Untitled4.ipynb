{
 "cells": [
  {
   "cell_type": "code",
   "execution_count": 1,
   "metadata": {},
   "outputs": [],
   "source": [
    "def get_best_disk_greedy_new(prob_list, n, number_of_error,file_size,factor):\n",
    "    threshold = pow(10, -15)/factor\n",
    "    new_prob_list=[x for x in prob_list]\n",
    "    data_dict = defaultdict(list)\n",
    "    for x in range(len(new_prob_list)):     \n",
    "        data_dict[new_prob_list[x]].append(x)\n",
    "\n",
    "    prob=calculate_error_prob(new_prob_list,number_of_error,stripe_size)\n",
    "    # val = (calibration(prob, 41497248, 5390, 10780, 5390))/file_size\n",
    "    val = prob/(file_size*8)\n",
    "    if val<=threshold or ((val-threshold)/threshold)<=.1:\n",
    "        return []\n",
    "    \n",
    "    \n",
    "    new_prob_list.sort(reverse = True)\n",
    "    for x in range(len(new_prob_list)):\n",
    "        prob=calculate_error_prob(new_prob_list[x+1:],number_of_error,stripe_size)\n",
    "        # val = (calibration(prob, 41497248, 5390, 10780, 5390))/file_size\n",
    "        val = prob/(file_size*8)\n",
    "        # print(val)\n",
    "        if val<=threshold or ((val-threshold)/threshold)<=.1:\n",
    "            # print(\"cost is less\")\n",
    "            selected_list=[]\n",
    "            selected_probs=new_prob_list[:x+1]\n",
    "            for number in selected_probs:\n",
    "                # print(number)\n",
    "                # print(data_dict)\n",
    "                selected_list.append(data_dict[number][0])\n",
    "                data_dict[number].remove(data_dict[number][0])\n",
    "            return selected_list"
   ]
  },
  {
   "cell_type": "code",
   "execution_count": 2,
   "metadata": {},
   "outputs": [],
   "source": [
    "def calibration(data, train_pop, target_pop, sampled_train_pop, sampled_target_pop):\n",
    "    calibrated_data = ((data * (target_pop / train_pop) / (sampled_target_pop / sampled_train_pop)) / (( (1 - data) * (1 - target_pop / train_pop) / (1 - sampled_target_pop/sampled_train_pop)) + (data * (target_pop / train_pop) / (sampled_target_pop / sampled_train_pop))))\n",
    "    return calibrated_data"
   ]
  },
  {
   "cell_type": "code",
   "execution_count": null,
   "metadata": {},
   "outputs": [],
   "source": []
  }
 ],
 "metadata": {
  "kernelspec": {
   "display_name": "Python 3",
   "language": "python",
   "name": "python3"
  },
  "language_info": {
   "codemirror_mode": {
    "name": "ipython",
    "version": 3
   },
   "file_extension": ".py",
   "mimetype": "text/x-python",
   "name": "python",
   "nbconvert_exporter": "python",
   "pygments_lexer": "ipython3",
   "version": "3.7.3"
  }
 },
 "nbformat": 4,
 "nbformat_minor": 2
}
